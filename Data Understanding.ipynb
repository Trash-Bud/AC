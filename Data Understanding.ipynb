{
 "cells": [
  {
   "cell_type": "markdown",
   "id": "c9c370e9",
   "metadata": {},
   "source": [
    "# Data Understanding"
   ]
  },
  {
   "cell_type": "markdown",
   "id": "d990339a",
   "metadata": {},
   "source": [
    "## Data Size"
   ]
  },
  {
   "cell_type": "code",
   "execution_count": 3,
   "id": "711b19cc",
   "metadata": {},
   "outputs": [
    {
     "name": "stdout",
     "output_type": "stream",
     "text": [
      "All\n",
      "           loan_id    account_id         amount    duration     payments  \\\n",
      "count   328.000000    328.000000     328.000000  328.000000   328.000000   \n",
      "mean   6205.658537   5982.085366  145308.621951   35.853659  4150.932927   \n",
      "std     667.985675   3213.262492  105247.318098   16.734752  2193.620989   \n",
      "min    4959.000000      2.000000    4980.000000   12.000000   319.000000   \n",
      "25%    5604.250000   3079.000000   68328.000000   24.000000  2368.750000   \n",
      "50%    6227.500000   6032.000000  114804.000000   36.000000  3878.500000   \n",
      "75%    6737.250000   8564.500000  198600.000000   48.000000  5907.750000   \n",
      "max    7308.000000  11362.000000  538500.000000   60.000000  9689.000000   \n",
      "\n",
      "           status  \n",
      "count  328.000000  \n",
      "mean     0.719512  \n",
      "std      0.695541  \n",
      "min     -1.000000  \n",
      "25%      1.000000  \n",
      "50%      1.000000  \n",
      "75%      1.000000  \n",
      "max      1.000000  \n",
      "\n",
      "Payed\n",
      "          loan_id    account_id         amount    duration     payments  \\\n",
      "count   282.00000    282.000000     282.000000  282.000000   282.000000   \n",
      "mean   6238.50000   6140.992908  139865.914894   35.829787  4001.932624   \n",
      "std     666.38036   3207.025868  103692.396883   16.878868  2153.345360   \n",
      "min    4959.00000      2.000000    4980.000000   12.000000   319.000000   \n",
      "25%    5640.50000   3261.000000   63324.000000   24.000000  2142.500000   \n",
      "50%    6288.50000   6321.000000  106722.000000   36.000000  3802.500000   \n",
      "75%    6779.75000   8868.250000  193662.000000   48.000000  5628.750000   \n",
      "max    7308.00000  11362.000000  538500.000000   60.000000  9689.000000   \n",
      "\n",
      "       status  \n",
      "count   282.0  \n",
      "mean      1.0  \n",
      "std       0.0  \n",
      "min       1.0  \n",
      "25%       1.0  \n",
      "50%       1.0  \n",
      "75%       1.0  \n",
      "max       1.0  \n",
      "\n",
      "Unpayed\n",
      "           loan_id    account_id         amount  duration     payments  status\n",
      "count    46.000000     46.000000      46.000000      46.0    46.000000    46.0\n",
      "mean   6004.326087   5007.913043  178674.782609      36.0  5064.369565    -1.0\n",
      "std     649.077878   3110.657578  109673.150761      16.0  2240.564288     0.0\n",
      "min    4961.000000     19.000000   29448.000000      12.0  1671.000000    -1.0\n",
      "25%    5400.000000   2191.000000   89511.000000      24.0  3050.500000    -1.0\n",
      "50%    6087.000000   5320.500000  171864.000000      36.0  4701.000000    -1.0\n",
      "75%    6354.000000   6688.500000  246600.000000      48.0  7281.000000    -1.0\n",
      "max    7241.000000  11021.000000  482940.000000      60.0  8308.000000    -1.0\n"
     ]
    }
   ],
   "source": [
    "import pandas as pd\n",
    "from datetime import datetime\n",
    "import numpy as np\n",
    "import sqlite3\n",
    "import matplotlib.pyplot as plt\n",
    "from statistics import mean \n",
    "import matplotlib.ticker as mtick\n",
    "import matplotlib as mpl\n",
    "\n",
    "\n",
    "conn = sqlite3.connect('./bank_database.db')\n",
    "\n",
    "COLOR = \"white\"\n",
    "mpl.rcParams['text.color'] = \"black\"\n",
    "\n",
    "mpl.rcParams['xtick.color'] = COLOR\n",
    "mpl.rcParams['ytick.color'] = COLOR\n",
    "\n",
    "loans = pd.read_sql('''SELECT * FROM loan_dev''', conn)\n",
    "\n",
    "print(\"All\")\n",
    "print(loans.describe())\n",
    "\n",
    "loans_p = pd.read_sql('''SELECT * FROM loan_dev WHERE status = 1''', conn)\n",
    "loans_up = pd.read_sql('''SELECT * FROM loan_dev WHERE status = -1''', conn)\n",
    "\n",
    "print(\"\\nPayed\")\n",
    "print(loans_p.describe())\n",
    "print(\"\\nUnpayed\")\n",
    "print(loans_up.describe())"
   ]
  },
  {
   "cell_type": "markdown",
   "id": "87b2ab26",
   "metadata": {},
   "source": [
    "## Age at loan destribution\n",
    "\n",
    "To make the destribution of ages at the time of loan first we needed to get the necessary data from the sqlite database into python.\n",
    "\n",
    "For that we joined the loan, disposition and client Tables selecting the loan date and birth_date and made sure we were only selecting clients who were account OWNERS since only they can take loans."
   ]
  },
  {
   "cell_type": "code",
   "execution_count": 4,
   "id": "f27c6d70",
   "metadata": {},
   "outputs": [
    {
     "name": "stdout",
     "output_type": "stream",
     "text": [
      "         date birth_number   type\n",
      "0  1994-01-05   1945-02-04  OWNER\n",
      "1  1996-04-29   1939-04-23  OWNER\n",
      "2  1996-05-02   1944-06-13  OWNER\n",
      "3  1996-11-06   1945-07-03  OWNER\n",
      "4  1994-05-31   1939-11-30  OWNER\n",
      "\n",
      "              date birth_number   type\n",
      "count          328          328    328\n",
      "unique         283          318      1\n",
      "top     1995-12-12   1945-02-04  OWNER\n",
      "freq             3            2    328\n"
     ]
    }
   ],
   "source": [
    "loan_dev_df = pd.read_sql('''SELECT loan_dev.date, birth_number, disp.type FROM account\n",
    "    JOIN loan_dev ON loan_dev.account_id = account.account_id\n",
    "    LEFT JOIN disp ON disp.account_id = account.account_id\n",
    "    LEFT JOIN client ON client.client_id = disp.client_id\n",
    "    LEFT JOIN district ON district.code = client.district_id\n",
    "    WHERE disp.type = \"OWNER\"\n",
    "''', conn)\n",
    "\n",
    "loan_dev_df = loan_dev_df.loc[:, ~loan_dev_df.columns.duplicated()]\n",
    "print(loan_dev_df.head())\n",
    "print()\n",
    "print(loan_dev_df.describe())\n"
   ]
  },
  {
   "cell_type": "code",
   "execution_count": 5,
   "id": "772c4910",
   "metadata": {},
   "outputs": [
    {
     "name": "stdout",
     "output_type": "stream",
     "text": [
      "number of loans: 328\n",
      "youngest: 13\n",
      "oldest: 60\n",
      "average: 35.75609756097561\n",
      "number of people younger then 18: 22. Making up 6.71% of loans\n",
      "age that asks for the most loans: 46 with 13 loans. Making up 3.96% of loans\n"
     ]
    },
    {
     "data": {
      "image/png": "[encoded data removed]",
      "text/plain": [
       "<Figure size 432x288 with 1 Axes>"
      ]
     },
     "metadata": {
      "needs_background": "dark"
     },
     "output_type": "display_data"
    },
    {
     "name": "stdout",
     "output_type": "stream",
     "text": [
      "       age_at_loan\n",
      "count   328.000000\n",
      "mean     35.756098\n",
      "std      12.533318\n",
      "min      13.000000\n",
      "25%      25.000000\n",
      "50%      35.000000\n",
      "75%      46.000000\n",
      "max      60.000000\n"
     ]
    }
   ],
   "source": [
    "def get_age_at_loan(loan_dev_df):\n",
    "    age_at_loan = []\n",
    "    for i in range(loan_dev_df['birth_number'].size):\n",
    "        try:\n",
    "            loan_dev_df['date'][i]\n",
    "        except:\n",
    "            age_at_loan.append(np.NaN)\n",
    "            continue\n",
    "\n",
    "        age_at_loan.append(int((datetime.strptime(loan_dev_df['date'][i], '%Y-%m-%d').date(\n",
    "        ) - datetime.strptime(loan_dev_df['birth_number'][i], '%Y-%m-%d').date()).days / 365.25))\n",
    "    return age_at_loan\n",
    "    \n",
    "age_at_loan = get_age_at_loan(loan_dev_df)\n",
    "\n",
    "print(\"number of loans: \" + str(len(age_at_loan)))\n",
    "print(\"youngest: \" + str(min(age_at_loan)))\n",
    "print(\"oldest: \" + str(max(age_at_loan)))\n",
    "print(\"average: \" + str(mean(age_at_loan)))\n",
    "counter = 0\n",
    "for i in age_at_loan:\n",
    "    if i < 18:\n",
    "        counter += 1\n",
    "print(\"number of people younger then 18: \" + str(counter) + \". Making up \" + str(round(counter/len(age_at_loan)*100,2)) + \"% of loans\")\n",
    "counter = 0\n",
    "num  = age_at_loan[0]\n",
    "for i in age_at_loan:\n",
    "        curr_frequency = age_at_loan.count(i)\n",
    "        if(curr_frequency> counter):\n",
    "            counter = curr_frequency\n",
    "            num = i\n",
    "print(\"age that asks for the most loans: \" + str(num) + \" with \" + str(counter) + \" loans. Making up \" + str(round(counter/len(age_at_loan)*100,2)) + \"% of loans\")\n",
    "\n",
    "plt.hist(age_at_loan, bins=50)\n",
    "plt.gca().set(title='Frequency Histogram', ylabel='Number of Loans')\n",
    "plt.show()\n",
    "df = pd.DataFrame(age_at_loan, columns = [\"age_at_loan\"])\n",
    "print(df.describe())"
   ]
  },
  {
   "cell_type": "markdown",
   "id": "06b28b4b",
   "metadata": {},
   "source": [
    "Making this destribution let us come to a couple conclusions: \n",
    "- The youngest age at which someone has made a loan is 13 which should be impossible since the minimum age to make a loan is 18, after looking further we came to the conclusion that there are in fact 22 entries (almost 7%) of loans which were made by people younger than 18 which might need to be dealt with seperatly\n",
    "- The oldest age was made by someone who was 60 years old\n",
    "- The average age for making a loan is between 35 and 36\n",
    "- Most loans were made by people who were 46 years old making up almost 4% of loans"
   ]
  },
  {
   "cell_type": "markdown",
   "id": "74c584c8",
   "metadata": {},
   "source": [
    "## Loan ammount"
   ]
  },
  {
   "cell_type": "code",
   "execution_count": 6,
   "id": "b8a2361a",
   "metadata": {},
   "outputs": [
    {
     "name": "stdout",
     "output_type": "stream",
     "text": [
      "   amount\n",
      "0   96396\n",
      "1  165960\n",
      "2  127080\n",
      "3  105804\n",
      "4  274740\n"
     ]
    },
    {
     "data": {
      "image/png": "[encoded data removed]",
      "text/plain": [
       "<Figure size 432x288 with 1 Axes>"
      ]
     },
     "metadata": {
      "needs_background": "dark"
     },
     "output_type": "display_data"
    },
    {
     "name": "stdout",
     "output_type": "stream",
     "text": [
      "              amount\n",
      "count     328.000000\n",
      "mean   145308.621951\n",
      "std    105247.318098\n",
      "min      4980.000000\n",
      "25%     68328.000000\n",
      "50%    114804.000000\n",
      "75%    198600.000000\n",
      "max    538500.000000\n"
     ]
    }
   ],
   "source": [
    "loan_dev_df = pd.read_sql('''SELECT amount FROM loan_dev ''', conn)\n",
    "\n",
    "loan_dev_df = loan_dev_df.loc[:, ~loan_dev_df.columns.duplicated()]\n",
    "\n",
    "print(loan_dev_df.head())\n",
    "\n",
    "plt.hist(loan_dev_df[\"amount\"], bins=50)\n",
    "plt.gca().set(title='Frequency Histogram', ylabel='Loan ammounts')\n",
    "plt.show()\n",
    "\n",
    "print(loan_dev_df.describe())"
   ]
  },
  {
   "cell_type": "markdown",
   "id": "ed9a2026",
   "metadata": {},
   "source": [
    "## Duration"
   ]
  },
  {
   "cell_type": "code",
   "execution_count": 7,
   "id": "958df793",
   "metadata": {},
   "outputs": [
    {
     "name": "stdout",
     "output_type": "stream",
     "text": [
      "   duration\n",
      "0        12\n",
      "1        36\n",
      "2        60\n",
      "3        36\n",
      "4        60\n"
     ]
    },
    {
     "data": {
      "image/png": "[encoded data removed]",
      "text/plain": [
       "<Figure size 432x288 with 1 Axes>"
      ]
     },
     "metadata": {
      "needs_background": "dark"
     },
     "output_type": "display_data"
    },
    {
     "name": "stdout",
     "output_type": "stream",
     "text": [
      "         duration\n",
      "count  328.000000\n",
      "mean    35.853659\n",
      "std     16.734752\n",
      "min     12.000000\n",
      "25%     24.000000\n",
      "50%     36.000000\n",
      "75%     48.000000\n",
      "max     60.000000\n"
     ]
    }
   ],
   "source": [
    "loan_dev_df = pd.read_sql('''SELECT duration FROM loan_dev ''', conn)\n",
    "\n",
    "loan_dev_df = loan_dev_df.loc[:, ~loan_dev_df.columns.duplicated()]\n",
    "\n",
    "print(loan_dev_df.head())\n",
    "\n",
    "plt.hist(loan_dev_df[\"duration\"], bins=50)\n",
    "plt.gca().set(title='Frequency Histogram', ylabel='Loan duration')\n",
    "plt.show()\n",
    "\n",
    "print(loan_dev_df.describe())"
   ]
  },
  {
   "cell_type": "markdown",
   "id": "94d35b62",
   "metadata": {},
   "source": [
    "## Date"
   ]
  },
  {
   "cell_type": "code",
   "execution_count": 8,
   "id": "f4c46ac8",
   "metadata": {},
   "outputs": [
    {
     "name": "stdout",
     "output_type": "stream",
     "text": [
      "        date\n",
      "0 1993-07-05\n",
      "1 1993-07-11\n",
      "2 1993-07-28\n",
      "3 1993-08-03\n",
      "4 1993-09-06\n",
      "                                date\n",
      "count                            328\n",
      "mean   1995-06-21 08:02:55.609756160\n",
      "min              1993-07-05 00:00:00\n",
      "25%              1994-08-09 06:00:00\n",
      "50%              1995-05-31 00:00:00\n",
      "75%              1996-05-25 06:00:00\n",
      "max              1996-12-27 00:00:00\n"
     ]
    },
    {
     "data": {
      "image/png": "[encoded data removed]",
      "text/plain": [
       "<Figure size 432x288 with 1 Axes>"
      ]
     },
     "metadata": {
      "needs_background": "dark"
     },
     "output_type": "display_data"
    }
   ],
   "source": [
    "loan_dev_df = pd.read_sql('''SELECT date FROM loan_dev ''', conn)\n",
    "\n",
    "loan_dev_df = loan_dev_df.loc[:, ~loan_dev_df.columns.duplicated()]\n",
    "loan_dev_df['date']= pd.to_datetime(loan_dev_df['date'])\n",
    "\n",
    "print(loan_dev_df.head())\n",
    "print(loan_dev_df.describe(datetime_is_numeric=True))\n",
    "\n",
    "plt.hist(loan_dev_df[\"date\"], bins=50)\n",
    "plt.gca().set(title='Frequency Histogram', ylabel='Loan date')\n",
    "plt.show()\n",
    "\n"
   ]
  },
  {
   "cell_type": "markdown",
   "id": "d84358b4",
   "metadata": {},
   "source": [
    "## Payments"
   ]
  },
  {
   "cell_type": "code",
   "execution_count": 9,
   "id": "7017f433",
   "metadata": {},
   "outputs": [
    {
     "name": "stdout",
     "output_type": "stream",
     "text": [
      "   payments\n",
      "0      8033\n",
      "1      4610\n",
      "2      2118\n",
      "3      2939\n",
      "4      4579\n"
     ]
    },
    {
     "data": {
      "image/png": "[encoded data removed]",
      "text/plain": [
       "<Figure size 432x288 with 1 Axes>"
      ]
     },
     "metadata": {
      "needs_background": "dark"
     },
     "output_type": "display_data"
    },
    {
     "name": "stdout",
     "output_type": "stream",
     "text": [
      "          payments\n",
      "count   328.000000\n",
      "mean   4150.932927\n",
      "std    2193.620989\n",
      "min     319.000000\n",
      "25%    2368.750000\n",
      "50%    3878.500000\n",
      "75%    5907.750000\n",
      "max    9689.000000\n"
     ]
    }
   ],
   "source": [
    "loan_dev_df = pd.read_sql('''SELECT payments FROM loan_dev ''', conn)\n",
    "\n",
    "loan_dev_df = loan_dev_df.loc[:, ~loan_dev_df.columns.duplicated()]\n",
    "\n",
    "print(loan_dev_df.head())\n",
    "\n",
    "plt.hist(loan_dev_df[\"payments\"], bins=50)\n",
    "plt.gca().set(title='Frequency Histogram', ylabel='Loan payments')\n",
    "plt.show()\n",
    "\n",
    "print(loan_dev_df.describe())"
   ]
  },
  {
   "cell_type": "markdown",
   "id": "1a062639",
   "metadata": {},
   "source": [
    "## Status vs Loan amount"
   ]
  },
  {
   "cell_type": "code",
   "execution_count": 10,
   "id": "fa39349f",
   "metadata": {},
   "outputs": [
    {
     "name": "stdout",
     "output_type": "stream",
     "text": [
      "Paid loans amount\n",
      "\n",
      "   amount\n",
      "0  165960\n",
      "1  127080\n",
      "2  105804\n",
      "3  274740\n",
      "4   87840\n",
      "              amount\n",
      "count     282.000000\n",
      "mean   139865.914894\n",
      "std    103692.396883\n",
      "min      4980.000000\n",
      "25%     63324.000000\n",
      "50%    106722.000000\n",
      "75%    193662.000000\n",
      "max    538500.000000\n",
      "\n",
      "Unpaid loans amount\n",
      "\n",
      "   amount\n",
      "0   96396\n",
      "1  174744\n",
      "2  464520\n",
      "3   75624\n",
      "4   49320\n",
      "              amount\n",
      "count      46.000000\n",
      "mean   178674.782609\n",
      "std    109673.150761\n",
      "min     29448.000000\n",
      "25%     89511.000000\n",
      "50%    171864.000000\n",
      "75%    246600.000000\n",
      "max    482940.000000\n"
     ]
    },
    {
     "data": {
      "image/png": "[encoded data removed]",
      "text/plain": [
       "<Figure size 432x288 with 1 Axes>"
      ]
     },
     "metadata": {
      "needs_background": "dark"
     },
     "output_type": "display_data"
    }
   ],
   "source": [
    "loan_payed = pd.read_sql('''SELECT amount FROM loan_dev WHERE status = \"1\" ''', conn)\n",
    "loan_unpayed = pd.read_sql('''SELECT amount FROM loan_dev WHERE status = \"-1\" ''', conn)\n",
    "\n",
    "loan_payed = loan_payed.loc[:, ~loan_payed.columns.duplicated()]\n",
    "loan_unpayed = loan_unpayed.loc[:, ~loan_unpayed.columns.duplicated()]\n",
    "\n",
    "print(\"Paid loans amount\\n\")\n",
    "print(loan_payed.head())\n",
    "print(loan_payed.describe())\n",
    "print()\n",
    "print(\"Unpaid loans amount\\n\")\n",
    "print(loan_unpayed.head())\n",
    "print(loan_unpayed.describe())\n",
    "\n",
    "plt.hist(loan_payed[\"amount\"], bins=50, color='blue')\n",
    "plt.hist(loan_unpayed[\"amount\"], bins=50, color='red', alpha=0.45)\n",
    "plt.legend(['Paid', \n",
    "            'Unpaid'])\n",
    "plt.show()\n",
    "\n",
    "\n"
   ]
  },
  {
   "cell_type": "markdown",
   "id": "3ef850b3",
   "metadata": {},
   "source": [
    "## Status vs Age at loan"
   ]
  },
  {
   "cell_type": "code",
   "execution_count": 17,
   "id": "c175b4f6",
   "metadata": {},
   "outputs": [
    {
     "data": {
      "image/png": "[encoded data removed]",
      "text/plain": [
       "<Figure size 432x288 with 1 Axes>"
      ]
     },
     "metadata": {
      "needs_background": "dark"
     },
     "output_type": "display_data"
    },
    {
     "name": "stdout",
     "output_type": "stream",
     "text": [
      "   age_at_loan_payed\n",
      "0                 48\n",
      "1                 51\n",
      "2                 51\n",
      "3                 54\n",
      "4                 54\n",
      "\n",
      "       age_at_loan_payed\n",
      "count         282.000000\n",
      "mean           35.620567\n",
      "std            12.303459\n",
      "min            13.000000\n",
      "25%            25.000000\n",
      "50%            35.000000\n",
      "75%            46.000000\n",
      "max            60.000000\n",
      "   age_at_loan_unpayed\n",
      "0                   57\n",
      "1                   47\n",
      "2                   28\n",
      "3                   42\n",
      "4                   39\n",
      "\n",
      "       age_at_loan_unpayed\n",
      "count            46.000000\n",
      "mean             36.586957\n",
      "std              13.978676\n",
      "min              15.000000\n",
      "25%              24.500000\n",
      "50%              36.500000\n",
      "75%              48.000000\n",
      "max              60.000000\n"
     ]
    }
   ],
   "source": [
    "loan_dev_df_payed = pd.read_sql('''SELECT loan_dev.date, birth_number, disp.type, status FROM account\n",
    "    JOIN loan_dev ON loan_dev.account_id = account.account_id\n",
    "    LEFT JOIN disp ON disp.account_id = account.account_id\n",
    "    LEFT JOIN client ON client.client_id = disp.client_id\n",
    "    LEFT JOIN district ON district.code = client.district_id\n",
    "    WHERE disp.type = \"OWNER\"and status = 1\n",
    "''', conn)\n",
    "\n",
    "loan_dev_df_unpayed = pd.read_sql('''SELECT loan_dev.date, birth_number, disp.type, status FROM account\n",
    "    JOIN loan_dev ON loan_dev.account_id = account.account_id\n",
    "    LEFT JOIN disp ON disp.account_id = account.account_id\n",
    "    LEFT JOIN client ON client.client_id = disp.client_id\n",
    "    LEFT JOIN district ON district.code = client.district_id\n",
    "    WHERE disp.type = \"OWNER\" and status = -1\n",
    "''', conn)\n",
    "\n",
    "loan_dev_df_payed = loan_dev_df_payed.loc[:, ~loan_dev_df_payed.columns.duplicated()]\n",
    "loan_dev_df_unpayed = loan_dev_df_unpayed.loc[:, ~loan_dev_df_unpayed.columns.duplicated()]\n",
    "\n",
    "age_at_loan_payed = get_age_at_loan(loan_dev_df_payed)\n",
    "age_at_loan_unpayed = get_age_at_loan(loan_dev_df_unpayed)\n",
    "\n",
    "age_payed = pd.DataFrame(age_at_loan_payed, columns = [\"age_at_loan_payed\"])\n",
    "age_unpayed = pd.DataFrame(age_at_loan_unpayed, columns = [\"age_at_loan_unpayed\"])\n",
    "\n",
    "\n",
    "plt.hist(age_at_loan_payed, bins=50, color='blue')\n",
    "plt.hist(age_at_loan_unpayed, bins=50, color='red', alpha=0.45)\n",
    "plt.legend(['Paid', \n",
    "            'Unpaid'])\n",
    "plt.show()\n",
    "\n",
    "\n",
    "print(age_payed.head())\n",
    "print()\n",
    "print(age_payed.describe())\n",
    "\n",
    "print(age_unpayed.head())\n",
    "print()\n",
    "print(age_unpayed.describe())"
   ]
  },
  {
   "cell_type": "markdown",
   "id": "a3d3863f",
   "metadata": {},
   "source": [
    "## Status vs duration"
   ]
  },
  {
   "cell_type": "code",
   "execution_count": 12,
   "id": "25e52512",
   "metadata": {},
   "outputs": [
    {
     "name": "stdout",
     "output_type": "stream",
     "text": [
      "Paid loans duration\n",
      "\n",
      "   duration\n",
      "0        36\n",
      "1        60\n",
      "2        36\n",
      "3        60\n",
      "4        24\n",
      "         duration\n",
      "count  282.000000\n",
      "mean    35.829787\n",
      "std     16.878868\n",
      "min     12.000000\n",
      "25%     24.000000\n",
      "50%     36.000000\n",
      "75%     48.000000\n",
      "max     60.000000\n",
      "\n",
      "Unpaid loans duration\n",
      "\n",
      "   duration\n",
      "0        12\n",
      "1        24\n",
      "2        60\n",
      "3        24\n",
      "4        12\n",
      "       duration\n",
      "count      46.0\n",
      "mean       36.0\n",
      "std        16.0\n",
      "min        12.0\n",
      "25%        24.0\n",
      "50%        36.0\n",
      "75%        48.0\n",
      "max        60.0\n"
     ]
    },
    {
     "data": {
      "image/png": "[encoded data removed]",
      "text/plain": [
       "<Figure size 432x288 with 1 Axes>"
      ]
     },
     "metadata": {
      "needs_background": "dark"
     },
     "output_type": "display_data"
    }
   ],
   "source": [
    "loan_payed = pd.read_sql('''SELECT duration FROM loan_dev WHERE status = \"1\" ''', conn)\n",
    "loan_unpayed = pd.read_sql('''SELECT duration FROM loan_dev WHERE status = \"-1\" ''', conn)\n",
    "\n",
    "loan_payed = loan_payed.loc[:, ~loan_payed.columns.duplicated()]\n",
    "loan_unpayed = loan_unpayed.loc[:, ~loan_unpayed.columns.duplicated()]\n",
    "\n",
    "print(\"Paid loans duration\\n\")\n",
    "print(loan_payed.head())\n",
    "print(loan_payed.describe())\n",
    "print()\n",
    "print(\"Unpaid loans duration\\n\")\n",
    "print(loan_unpayed.head())\n",
    "print(loan_unpayed.describe())\n",
    "\n",
    "plt.hist(loan_payed[\"duration\"], bins=50, color='blue')\n",
    "plt.hist(loan_unpayed[\"duration\"], bins=50, color='red', alpha=0.45)\n",
    "plt.legend(['Paid', \n",
    "            'Unpaid'])\n",
    "plt.show()"
   ]
  },
  {
   "cell_type": "markdown",
   "id": "eb7babcd",
   "metadata": {},
   "source": [
    "## Status vs payments"
   ]
  },
  {
   "cell_type": "code",
   "execution_count": 13,
   "id": "f891b98d",
   "metadata": {
    "scrolled": true
   },
   "outputs": [
    {
     "name": "stdout",
     "output_type": "stream",
     "text": [
      "Paid loans payments\n",
      "\n",
      "   payments\n",
      "0      4610\n",
      "1      2118\n",
      "2      2939\n",
      "3      4579\n",
      "4      3660\n",
      "          payments\n",
      "count   282.000000\n",
      "mean   4001.932624\n",
      "std    2153.345360\n",
      "min     319.000000\n",
      "25%    2142.500000\n",
      "50%    3802.500000\n",
      "75%    5628.750000\n",
      "max    9689.000000\n",
      "\n",
      "Unpaid loans payments\n",
      "\n",
      "   payments\n",
      "0      8033\n",
      "1      7281\n",
      "2      7742\n",
      "3      3151\n",
      "4      4110\n",
      "          payments\n",
      "count    46.000000\n",
      "mean   5064.369565\n",
      "std    2240.564288\n",
      "min    1671.000000\n",
      "25%    3050.500000\n",
      "50%    4701.000000\n",
      "75%    7281.000000\n",
      "max    8308.000000\n"
     ]
    },
    {
     "data": {
      "image/png": "[encoded data removed]",
      "text/plain": [
       "<Figure size 432x288 with 1 Axes>"
      ]
     },
     "metadata": {
      "needs_background": "dark"
     },
     "output_type": "display_data"
    }
   ],
   "source": [
    "loan_payed = pd.read_sql('''SELECT payments FROM loan_dev WHERE status = \"1\" ''', conn)\n",
    "loan_unpayed = pd.read_sql('''SELECT payments FROM loan_dev WHERE status = \"-1\" ''', conn)\n",
    "\n",
    "loan_payed = loan_payed.loc[:, ~loan_payed.columns.duplicated()]\n",
    "loan_unpayed = loan_unpayed.loc[:, ~loan_unpayed.columns.duplicated()]\n",
    "\n",
    "print(\"Paid loans payments\\n\")\n",
    "print(loan_payed.head())\n",
    "print(loan_payed.describe())\n",
    "print()\n",
    "print(\"Unpaid loans payments\\n\")\n",
    "print(loan_unpayed.head())\n",
    "print(loan_unpayed.describe())\n",
    "\n",
    "plt.hist(loan_payed[\"payments\"], bins=50, color='blue')\n",
    "plt.hist(loan_unpayed[\"payments\"], bins=50, color='red', alpha=0.45)\n",
    "plt.legend(['Paid', \n",
    "            'Unpaid'])\n",
    "plt.show()"
   ]
  },
  {
   "cell_type": "markdown",
   "id": "90c1196a",
   "metadata": {},
   "source": [
    "## District"
   ]
  },
  {
   "cell_type": "code",
   "execution_count": 14,
   "id": "600cd919",
   "metadata": {},
   "outputs": [
    {
     "name": "stdout",
     "output_type": "stream",
     "text": [
      "          name\n",
      "0        Pisek\n",
      "1  Hl.m. Praha\n",
      "2  Hl.m. Praha\n",
      "3        Kolin\n",
      "4        Kolin\n",
      "\n",
      "               name\n",
      "count          5369\n",
      "unique           77\n",
      "top     Hl.m. Praha\n",
      "freq            663\n"
     ]
    },
    {
     "data": {
      "image/png": "[encoded data removed]",
      "text/plain": [
       "<Figure size 432x288 with 1 Axes>"
      ]
     },
     "metadata": {
      "needs_background": "dark"
     },
     "output_type": "display_data"
    }
   ],
   "source": [
    "district_client = pd.read_sql('''SELECT name FROM client JOIN district ON district.code = client.district_id''', conn)\n",
    "\n",
    "district_client = district_client.loc[:, ~district_client.columns.duplicated()]\n",
    "\n",
    "print(district_client.head())\n",
    "print()\n",
    "print(district_client.describe())\n",
    "\n",
    "fig, ax = plt.subplots()\n",
    "plt.rcParams.update({'font.size': 10})\n",
    "ax.hist(district_client[\"name\"], bins=50)\n",
    "for tick in ax.get_xticklabels():\n",
    "    tick.set_rotation(90)\n",
    "plt.show()"
   ]
  },
  {
   "cell_type": "markdown",
   "id": "cd853445",
   "metadata": {},
   "source": [
    "## Region"
   ]
  },
  {
   "cell_type": "code",
   "execution_count": 15,
   "id": "d6e8e7f5",
   "metadata": {},
   "outputs": [
    {
     "name": "stdout",
     "output_type": "stream",
     "text": [
      "            region\n",
      "0    south Bohemia\n",
      "1           Prague\n",
      "2           Prague\n",
      "3  central Bohemia\n",
      "4  central Bohemia\n",
      "\n",
      "               region\n",
      "count            5369\n",
      "unique              8\n",
      "top     south Moravia\n",
      "freq              937\n"
     ]
    },
    {
     "data": {
      "image/png": "[encoded data removed]",
      "text/plain": [
       "<Figure size 432x288 with 1 Axes>"
      ]
     },
     "metadata": {
      "needs_background": "dark"
     },
     "output_type": "display_data"
    }
   ],
   "source": [
    "district_client = pd.read_sql('''SELECT region FROM client JOIN district ON district.code = client.district_id''', conn)\n",
    "\n",
    "district_client = district_client.loc[:, ~district_client.columns.duplicated()]\n",
    "\n",
    "print(district_client.head())\n",
    "print()\n",
    "print(district_client.describe())\n",
    "\n",
    "fig, ax = plt.subplots()\n",
    "ax.hist(district_client[\"region\"], bins=50)\n",
    "for tick in ax.get_xticklabels():\n",
    "    tick.set_rotation(90)\n",
    "plt.show()"
   ]
  },
  {
   "cell_type": "markdown",
   "id": "fc9de7c0",
   "metadata": {},
   "source": [
    "## Average zone salary"
   ]
  },
  {
   "cell_type": "code",
   "execution_count": 143,
   "id": "954b25e8",
   "metadata": {},
   "outputs": [
    {
     "name": "stdout",
     "output_type": "stream",
     "text": [
      "   average salary \n",
      "0             8968\n",
      "1            12541\n",
      "2            12541\n",
      "3             9307\n",
      "4             9307\n",
      "\n",
      "       average salary \n",
      "count      5369.000000\n",
      "mean       9510.758614\n",
      "std        1330.686689\n",
      "min        8110.000000\n",
      "25%        8547.000000\n",
      "50%        8980.000000\n",
      "75%        9897.000000\n",
      "max       12541.000000\n"
     ]
    },
    {
     "data": {
      "image/png": "[encoded data removed]",
      "text/plain": [
       "<Figure size 432x288 with 1 Axes>"
      ]
     },
     "metadata": {
      "needs_background": "light"
     },
     "output_type": "display_data"
    }
   ],
   "source": [
    "district_client = pd.read_sql('''SELECT \"average salary \" FROM client JOIN district ON district.code = client.district_id''', conn)\n",
    "\n",
    "district_client = district_client.loc[:, ~district_client.columns.duplicated()]\n",
    "\n",
    "print(district_client.head())\n",
    "print()\n",
    "print(district_client.describe())\n",
    "\n",
    "\n",
    "fig, ax = plt.subplots()\n",
    "ax.hist(district_client[\"average salary \"], bins=50)\n",
    "for tick in ax.get_xticklabels():\n",
    "    tick.set_rotation(90)\n",
    "plt.show()"
   ]
  },
  {
   "cell_type": "markdown",
   "id": "f6284f4b",
   "metadata": {},
   "source": [
    "## no. of inhabitants"
   ]
  },
  {
   "cell_type": "code",
   "execution_count": 145,
   "id": "93d198ac",
   "metadata": {},
   "outputs": [
    {
     "name": "stdout",
     "output_type": "stream",
     "text": [
      "   no. of inhabitants\n",
      "0               70699\n",
      "1             1204953\n",
      "2             1204953\n",
      "3               95616\n",
      "4               95616\n",
      "\n",
      "       no. of inhabitants\n",
      "count        5.369000e+03\n",
      "mean         2.692806e+05\n",
      "std          3.590500e+05\n",
      "min          4.282100e+04\n",
      "25%          8.888400e+04\n",
      "50%          1.219470e+05\n",
      "75%          2.261220e+05\n",
      "max          1.204953e+06\n"
     ]
    },
    {
     "data": {
      "image/png": "[encoded data removed]",
      "text/plain": [
       "<Figure size 432x288 with 1 Axes>"
      ]
     },
     "metadata": {
      "needs_background": "light"
     },
     "output_type": "display_data"
    }
   ],
   "source": [
    "district_client = pd.read_sql('''SELECT \"no. of inhabitants\" FROM client JOIN district ON district.code = client.district_id''', conn)\n",
    "\n",
    "district_client = district_client.loc[:, ~district_client.columns.duplicated()]\n",
    "\n",
    "print(district_client.head())\n",
    "print()\n",
    "print(district_client.describe())\n",
    "\n",
    "\n",
    "fig, ax = plt.subplots()\n",
    "ax.hist(district_client[\"no. of inhabitants\"], bins=50)\n",
    "for tick in ax.get_xticklabels():\n",
    "    tick.set_rotation(90)\n",
    "plt.show()"
   ]
  },
  {
   "cell_type": "markdown",
   "id": "9d02d2d2",
   "metadata": {},
   "source": [
    "## ratio of urban inhabitants "
   ]
  },
  {
   "cell_type": "code",
   "execution_count": 160,
   "id": "b2bfb115",
   "metadata": {},
   "outputs": [
    {
     "name": "stdout",
     "output_type": "stream",
     "text": [
      "   ratio of urban inhabitants \n",
      "0                         65.3\n",
      "1                        100.0\n",
      "2                        100.0\n",
      "3                         51.4\n",
      "4                         51.4\n",
      "\n",
      "       ratio of urban inhabitants \n",
      "count                  5369.000000\n",
      "mean                     69.240045\n",
      "std                      19.896870\n",
      "min                      33.900000\n",
      "25%                      52.700000\n",
      "50%                      63.100000\n",
      "75%                      85.600000\n",
      "max                     100.000000\n"
     ]
    },
    {
     "data": {
      "image/png": "[encoded data removed]",
      "text/plain": [
       "<Figure size 432x288 with 1 Axes>"
      ]
     },
     "metadata": {
      "needs_background": "light"
     },
     "output_type": "display_data"
    }
   ],
   "source": [
    "district_client = pd.read_sql('''SELECT \"ratio of urban inhabitants \" FROM client JOIN district ON district.code = client.district_id''', conn)\n",
    "\n",
    "district_client = district_client.loc[:, ~district_client.columns.duplicated()]\n",
    "\n",
    "print(district_client.head())\n",
    "print()\n",
    "print(district_client.describe())\n",
    "\n",
    "\n",
    "fig, ax = plt.subplots()\n",
    "ax.hist(district_client[\"ratio of urban inhabitants \"], bins=50)\n",
    "\n",
    "plt.show()"
   ]
  },
  {
   "cell_type": "markdown",
   "id": "b1cdba6a",
   "metadata": {},
   "source": [
    "## unemploymant rate"
   ]
  },
  {
   "cell_type": "code",
   "execution_count": 22,
   "id": "2dbac339",
   "metadata": {
    "scrolled": true
   },
   "outputs": [
    {
     "name": "stdout",
     "output_type": "stream",
     "text": [
      "   unemploymant rate '95   unemploymant rate '96 \n",
      "0                    2.83                    3.35\n",
      "1                    0.29                    0.43\n",
      "2                    0.29                    0.43\n",
      "3                    3.85                    4.43\n",
      "4                    3.85                    4.43\n",
      "\n",
      "       unemploymant rate '95   unemploymant rate '96 \n",
      "count             5369.000000             5369.000000\n",
      "mean                 2.912486                3.490942\n",
      "std                  1.889014                2.134924\n",
      "min                  0.290000                0.430000\n",
      "25%                  1.600000                1.960000\n",
      "50%                  2.770000                3.470000\n",
      "75%                  4.010000                4.790000\n",
      "max                  7.340000                9.400000\n"
     ]
    },
    {
     "data": {
      "image/png": "[encoded data removed]",
      "text/plain": [
       "<Figure size 432x288 with 1 Axes>"
      ]
     },
     "metadata": {
      "needs_background": "dark"
     },
     "output_type": "display_data"
    }
   ],
   "source": [
    "district_client = pd.read_sql('''SELECT  \"unemploymant rate '95 \", \"unemploymant rate '96 \" FROM client LEFT JOIN district ON district.code = client.district_id''', conn)\n",
    "\n",
    "\n",
    "district_client.loc[district_client[\"unemploymant rate '95 \"] == '?',\n",
    "                \"unemploymant rate '95 \"] = district_client[\"unemploymant rate '96 \"]\n",
    "\n",
    "district_client[\"unemploymant rate '95 \"] = district_client[\"unemploymant rate '95 \"].astype('float')\n",
    "\n",
    "print(district_client.head())\n",
    "print()\n",
    "print(district_client.describe())\n",
    "\n",
    "\n",
    "fig, ax = plt.subplots()\n",
    "ax.hist(district_client[\"unemploymant rate '95 \"], bins=50, color=\"blue\")\n",
    "ax.hist(district_client[\"unemploymant rate '96 \"], bins=50, alpha = 0.5, color=\"red\")\n",
    "plt.legend([\"unemploymant rate '95 \", \n",
    "            \"unemploymant rate '96 \"])\n",
    "plt.show()\n",
    "\n"
   ]
  },
  {
   "cell_type": "markdown",
   "id": "165482ba",
   "metadata": {},
   "source": [
    "## no enterpreneurs"
   ]
  },
  {
   "cell_type": "code",
   "execution_count": 235,
   "id": "69adfb1c",
   "metadata": {},
   "outputs": [
    {
     "name": "stdout",
     "output_type": "stream",
     "text": [
      "   no. of enterpreneurs per 1000 inhabitants \n",
      "0                                         131\n",
      "1                                         167\n",
      "2                                         167\n",
      "3                                         118\n",
      "4                                         118\n",
      "\n",
      "       no. of enterpreneurs per 1000 inhabitants \n",
      "count                                 5369.000000\n",
      "mean                                   121.191097\n",
      "std                                     23.106521\n",
      "min                                     81.000000\n",
      "25%                                    105.000000\n",
      "50%                                    116.000000\n",
      "75%                                    131.000000\n",
      "max                                    167.000000\n"
     ]
    },
    {
     "data": {
      "image/png": "[encoded data removed]",
      "text/plain": [
       "<Figure size 432x288 with 1 Axes>"
      ]
     },
     "metadata": {
      "needs_background": "light"
     },
     "output_type": "display_data"
    }
   ],
   "source": [
    "district_client = pd.read_sql('''SELECT \"no. of enterpreneurs per 1000 inhabitants \" FROM client JOIN district ON district.code = client.district_id''', conn)\n",
    "\n",
    "district_client = district_client.loc[:, ~district_client.columns.duplicated()]\n",
    "\n",
    "print(district_client.head())\n",
    "print()\n",
    "print(district_client.describe())\n",
    "\n",
    "\n",
    "fig, ax = plt.subplots()\n",
    "ax.hist(district_client[\"no. of enterpreneurs per 1000 inhabitants \"], bins=50)\n",
    "for tick in ax.get_xticklabels():\n",
    "    tick.set_rotation(90)\n",
    "plt.show()"
   ]
  },
  {
   "cell_type": "markdown",
   "id": "aeb0b0f5",
   "metadata": {},
   "source": [
    "## crime rate"
   ]
  },
  {
   "cell_type": "code",
   "execution_count": 224,
   "id": "0174629f",
   "metadata": {},
   "outputs": [
    {
     "name": "stdout",
     "output_type": "stream",
     "text": [
      "   no. of commited crimes '95   no. of commited crimes '96 \n",
      "0                       1740.0                         1910\n",
      "1                      85677.0                        99107\n",
      "2                      85677.0                        99107\n",
      "3                       2616.0                         3040\n",
      "4                       2616.0                         3040\n",
      "\n",
      "       no. of commited crimes '95   no. of commited crimes '96 \n",
      "count                  5369.000000                  5369.000000\n",
      "mean                  14665.696405                 16352.240082\n",
      "std                   26977.698874                 31330.146616\n",
      "min                     818.000000                   888.000000\n",
      "25%                    2159.000000                  2252.000000\n",
      "50%                    3729.000000                  3839.000000\n",
      "75%                    6604.000000                  6295.000000\n",
      "max                   85677.000000                 99107.000000\n"
     ]
    },
    {
     "data": {
      "image/png": "[encoded data removed]",
      "text/plain": [
       "<Figure size 432x288 with 1 Axes>"
      ]
     },
     "metadata": {
      "needs_background": "light"
     },
     "output_type": "display_data"
    }
   ],
   "source": [
    "district_client = pd.read_sql('''SELECT  \"no. of commited crimes '95 \", \"no. of commited crimes '96 \" FROM client LEFT JOIN district ON district.code = client.district_id''', conn)\n",
    "\n",
    "\n",
    "district_client.loc[district_client[\"no. of commited crimes '95 \"] == '?',\n",
    "                \"no. of commited crimes '95 \"] = district_client[\"no. of commited crimes '96 \"]\n",
    "\n",
    "district_client[\"no. of commited crimes '95 \"] = district_client[\"no. of commited crimes '95 \"].astype('float')\n",
    "\n",
    "print(district_client.head())\n",
    "print()\n",
    "print(district_client.describe())\n",
    "\n",
    "\n",
    "fig, ax = plt.subplots()\n",
    "ax.hist(district_client[\"no. of commited crimes '95 \"], bins=50, color=\"blue\")\n",
    "ax.hist(district_client[\"no. of commited crimes '96 \"], bins=50, alpha = 0.5, color=\"red\")\n",
    "plt.legend([\"no. of commited crimes '95 \", \n",
    "            \"no. of commited crimes '96 \"])\n",
    "plt.show()\n"
   ]
  },
  {
   "cell_type": "markdown",
   "id": "e5503b95",
   "metadata": {},
   "source": [
    "## Status vs District"
   ]
  },
  {
   "cell_type": "code",
   "execution_count": 25,
   "id": "a4f18c70",
   "metadata": {},
   "outputs": [
    {
     "name": "stdout",
     "output_type": "stream",
     "text": [
      "               name\n",
      "count            73\n",
      "unique           73\n",
      "top     Hl.m. Praha\n",
      "freq              1\n",
      "                name\n",
      "0        Hl.m. Praha\n",
      "1  Jindrichuv Hradec\n",
      "2            Teplice\n",
      "3   Zdar nad Sazavou\n",
      "4            Breclav\n",
      "\n",
      "               name\n",
      "count           282\n",
      "unique           71\n",
      "top     Hl.m. Praha\n",
      "freq             35\n",
      "           name\n",
      "0         Tabor\n",
      "1   Hl.m. Praha\n",
      "2     Prostejov\n",
      "3  Brno - mesto\n",
      "4       Jesenik\n",
      "\n",
      "               name\n",
      "count            46\n",
      "unique           30\n",
      "top     Hl.m. Praha\n",
      "freq              6\n"
     ]
    },
    {
     "data": {
      "image/png": "[encoded data removed]",
      "text/plain": [
       "<Figure size 432x288 with 1 Axes>"
      ]
     },
     "metadata": {
      "needs_background": "dark"
     },
     "output_type": "display_data"
    }
   ],
   "source": [
    "district_client_all = pd.read_sql('''SELECT DISTINCT district.name FROM account\n",
    "    JOIN loan_dev ON loan_dev.account_id = account.account_id\n",
    "    LEFT JOIN disp ON disp.account_id = account.account_id\n",
    "    LEFT JOIN client ON client.client_id = disp.client_id\n",
    "    LEFT JOIN district ON district.code = client.district_id\n",
    "    WHERE disp.type = \"OWNER\"\n",
    "''', conn)\n",
    "\n",
    "district_client_p = pd.read_sql('''SELECT district.name FROM account\n",
    "    JOIN loan_dev ON loan_dev.account_id = account.account_id\n",
    "    LEFT JOIN disp ON disp.account_id = account.account_id\n",
    "    LEFT JOIN client ON client.client_id = disp.client_id\n",
    "    LEFT JOIN district ON district.code = client.district_id\n",
    "    WHERE disp.type = \"OWNER\" and status = 1\n",
    "''', conn)\n",
    "\n",
    "district_client_up = pd.read_sql('''SELECT district.name FROM account\n",
    "    JOIN loan_dev ON loan_dev.account_id = account.account_id\n",
    "    LEFT JOIN disp ON disp.account_id = account.account_id\n",
    "    LEFT JOIN client ON client.client_id = disp.client_id\n",
    "    LEFT JOIN district ON district.code = client.district_id\n",
    "    WHERE disp.type = \"OWNER\" and status = -1\n",
    "''', conn)\n",
    "\n",
    "\n",
    "print(district_client_all.describe())\n",
    "\n",
    "print(district_client_p.head())\n",
    "print()\n",
    "print(district_client_p.describe())\n",
    "\n",
    "print(district_client_up.head())\n",
    "print()\n",
    "print(district_client_up.describe())\n",
    "\n",
    "fig, ax = plt.subplots()\n",
    "ax.hist(district_client_p[\"name\"], bins=50, color = \"blue\")\n",
    "ax.hist(district_client_up[\"name\"], bins=50, color = \"red\", alpha = 0.45)\n",
    "plt.legend([\"paid\", \n",
    "            \"unpaid \"])\n",
    "for tick in ax.get_xticklabels():\n",
    "    tick.set_rotation(90)\n",
    "plt.show()\n",
    "\n"
   ]
  },
  {
   "cell_type": "code",
   "execution_count": 58,
   "id": "840891fa",
   "metadata": {},
   "outputs": [
    {
     "name": "stdout",
     "output_type": "stream",
     "text": [
      "Tabor - 2/4 (50.0%)\n",
      "\n",
      "Breclav - 1/2 (50.0%)\n",
      "\n",
      "Jesenik - 1/3 (33.33%)\n",
      "\n",
      "Strakonice - 2/4 (50.0%)\n",
      "\n",
      "Sokolov - 0/1 (0.0%)\n",
      "\n",
      "Bruntal - 1/2 (50.0%)\n",
      "\n",
      "Opava - 0/2 (0.0%)\n",
      "\n",
      "Kromeriz - 2/4 (50.0%)\n",
      "\n",
      "Karlovy Vary - 2/4 (50.0%)\n",
      "\n",
      "Havlickuv Brod - 1/2 (50.0%)\n",
      "\n"
     ]
    }
   ],
   "source": [
    "for district in district_client_all[\"name\"]:\n",
    "    payed = district_client_p[\"name\"].tolist().count(district)\n",
    "    unpayed = district_client_up[\"name\"].tolist().count(district)\n",
    "    percentage = round(payed/(payed+unpayed)*100,2)\n",
    "    if (percentage <= 50):\n",
    "        print(district + \" - \" + str(payed) +\"/\"+str(payed+unpayed) + \" (\"+ str(percentage) +\"%)\\n\")"
   ]
  },
  {
   "cell_type": "markdown",
   "id": "eb97444c",
   "metadata": {},
   "source": [
    "## Status vs Region"
   ]
  },
  {
   "cell_type": "code",
   "execution_count": 1,
   "id": "15f5778d",
   "metadata": {},
   "outputs": [
    {
     "ename": "NameError",
     "evalue": "name 'pd' is not defined",
     "output_type": "error",
     "traceback": [
      "\u001b[1;31m---------------------------------------------------------------------------\u001b[0m",
      "\u001b[1;31mNameError\u001b[0m                                 Traceback (most recent call last)",
      "Input \u001b[1;32mIn [1]\u001b[0m, in \u001b[0;36m<cell line: 1>\u001b[1;34m()\u001b[0m\n\u001b[1;32m----> 1\u001b[0m district_client_p \u001b[38;5;241m=\u001b[39m \u001b[43mpd\u001b[49m\u001b[38;5;241m.\u001b[39mread_sql(\u001b[38;5;124m'''\u001b[39m\u001b[38;5;124mSELECT district.region FROM account\u001b[39m\n\u001b[0;32m      2\u001b[0m \u001b[38;5;124m    JOIN loan_dev ON loan_dev.account_id = account.account_id\u001b[39m\n\u001b[0;32m      3\u001b[0m \u001b[38;5;124m    LEFT JOIN disp ON disp.account_id = account.account_id\u001b[39m\n\u001b[0;32m      4\u001b[0m \u001b[38;5;124m    LEFT JOIN client ON client.client_id = disp.client_id\u001b[39m\n\u001b[0;32m      5\u001b[0m \u001b[38;5;124m    LEFT JOIN district ON district.code = client.district_id\u001b[39m\n\u001b[0;32m      6\u001b[0m \u001b[38;5;124m    WHERE disp.type = \u001b[39m\u001b[38;5;124m\"\u001b[39m\u001b[38;5;124mOWNER\u001b[39m\u001b[38;5;124m\"\u001b[39m\u001b[38;5;124m and status = 1\u001b[39m\n\u001b[0;32m      7\u001b[0m \u001b[38;5;124m'''\u001b[39m, conn)\n\u001b[0;32m      9\u001b[0m district_client_up \u001b[38;5;241m=\u001b[39m pd\u001b[38;5;241m.\u001b[39mread_sql(\u001b[38;5;124m'''\u001b[39m\u001b[38;5;124mSELECT district.region FROM account\u001b[39m\n\u001b[0;32m     10\u001b[0m \u001b[38;5;124m    JOIN loan_dev ON loan_dev.account_id = account.account_id\u001b[39m\n\u001b[0;32m     11\u001b[0m \u001b[38;5;124m    LEFT JOIN disp ON disp.account_id = account.account_id\u001b[39m\n\u001b[1;32m   (...)\u001b[0m\n\u001b[0;32m     14\u001b[0m \u001b[38;5;124m    WHERE disp.type = \u001b[39m\u001b[38;5;124m\"\u001b[39m\u001b[38;5;124mOWNER\u001b[39m\u001b[38;5;124m\"\u001b[39m\u001b[38;5;124m and status = -1\u001b[39m\n\u001b[0;32m     15\u001b[0m \u001b[38;5;124m'''\u001b[39m, conn)\n\u001b[0;32m     18\u001b[0m \u001b[38;5;28mprint\u001b[39m(district_client_p\u001b[38;5;241m.\u001b[39mhead())\n",
      "\u001b[1;31mNameError\u001b[0m: name 'pd' is not defined"
     ]
    }
   ],
   "source": [
    "district_client_p = pd.read_sql('''SELECT district.region FROM account\n",
    "    JOIN loan_dev ON loan_dev.account_id = account.account_id\n",
    "    LEFT JOIN disp ON disp.account_id = account.account_id\n",
    "    LEFT JOIN client ON client.client_id = disp.client_id\n",
    "    LEFT JOIN district ON district.code = client.district_id\n",
    "    WHERE disp.type = \"OWNER\" and status = 1\n",
    "''', conn)\n",
    "\n",
    "district_client_up = pd.read_sql('''SELECT district.region FROM account\n",
    "    JOIN loan_dev ON loan_dev.account_id = account.account_id\n",
    "    LEFT JOIN disp ON disp.account_id = account.account_id\n",
    "    LEFT JOIN client ON client.client_id = disp.client_id\n",
    "    LEFT JOIN district ON district.code = client.district_id\n",
    "    WHERE disp.type = \"OWNER\" and status = -1\n",
    "''', conn)\n",
    "\n",
    "\n",
    "print(district_client_p.head())\n",
    "print()\n",
    "print(district_client_p.describe())\n",
    "\n",
    "print(district_client_up.head())\n",
    "print()\n",
    "print(district_client_up.describe())\n",
    "\n",
    "fig, ax = plt.subplots()\n",
    "ax.hist(district_client_p[\"region\"], bins=50, color = \"blue\")\n",
    "ax.hist(district_client_up[\"region\"], bins=50, color = \"red\", alpha = 0.45)\n",
    "plt.legend([\"paid\", \n",
    "            \"unpaid \"])\n",
    "for tick in ax.get_xticklabels():\n",
    "    tick.set_rotation(90)\n",
    "plt.show()"
   ]
  },
  {
   "cell_type": "markdown",
   "id": "e5023119",
   "metadata": {},
   "source": [
    "## Status vs Average Salary"
   ]
  },
  {
   "cell_type": "code",
   "execution_count": 4,
   "id": "d5356050",
   "metadata": {},
   "outputs": [
    {
     "name": "stdout",
     "output_type": "stream",
     "text": [
      "   average salary \n",
      "0            12541\n",
      "1             8427\n",
      "2             9317\n",
      "3             8512\n",
      "4             8772\n",
      "\n",
      "       average salary \n",
      "count       282.000000\n",
      "mean       9530.166667\n",
      "std        1314.350269\n",
      "min        8110.000000\n",
      "25%        8547.000000\n",
      "50%        8994.000000\n",
      "75%        9914.250000\n",
      "max       12541.000000\n",
      "   average salary \n",
      "0             9104\n",
      "1            12541\n",
      "2             8441\n",
      "3             9897\n",
      "4             8173\n",
      "\n",
      "       average salary \n",
      "count        46.000000\n",
      "mean       9480.130435\n",
      "std        1364.826039\n",
      "min        8110.000000\n",
      "25%        8469.750000\n",
      "50%        8991.000000\n",
      "75%        9896.000000\n",
      "max       12541.000000\n"
     ]
    },
    {
     "data": {
      "image/png": "[encoded data removed]",
      "text/plain": [
       "<Figure size 432x288 with 1 Axes>"
      ]
     },
     "metadata": {
      "needs_background": "dark"
     },
     "output_type": "display_data"
    }
   ],
   "source": [
    "district_client_p = pd.read_sql('''SELECT district.\"average salary \" FROM account\n",
    "    JOIN loan_dev ON loan_dev.account_id = account.account_id\n",
    "    LEFT JOIN disp ON disp.account_id = account.account_id\n",
    "    LEFT JOIN client ON client.client_id = disp.client_id\n",
    "    LEFT JOIN district ON district.code = client.district_id\n",
    "    WHERE disp.type = \"OWNER\" and status = 1\n",
    "''', conn)\n",
    "\n",
    "district_client_up = pd.read_sql('''SELECT district.\"average salary \" FROM account\n",
    "    JOIN loan_dev ON loan_dev.account_id = account.account_id\n",
    "    LEFT JOIN disp ON disp.account_id = account.account_id\n",
    "    LEFT JOIN client ON client.client_id = disp.client_id\n",
    "    LEFT JOIN district ON district.code = client.district_id\n",
    "    WHERE disp.type = \"OWNER\" and status = -1\n",
    "''', conn)\n",
    "\n",
    "\n",
    "print(district_client_p.head())\n",
    "print()\n",
    "print(district_client_p.describe())\n",
    "\n",
    "print(district_client_up.head())\n",
    "print()\n",
    "print(district_client_up.describe())\n",
    "\n",
    "fig, ax = plt.subplots()\n",
    "ax.hist(district_client_p[\"average salary \"], bins=50, color = \"blue\")\n",
    "ax.hist(district_client_up[\"average salary \"], bins=50, color = \"red\", alpha = 0.45)\n",
    "plt.legend([\"paid\", \n",
    "            \"unpaid \"])\n",
    "plt.show()"
   ]
  },
  {
   "cell_type": "markdown",
   "id": "7572f6d9",
   "metadata": {},
   "source": [
    "## Status vs no of inhabitants"
   ]
  },
  {
   "cell_type": "code",
   "execution_count": 230,
   "id": "cac05c15",
   "metadata": {},
   "outputs": [
    {
     "name": "stdout",
     "output_type": "stream",
     "text": [
      "   no. of inhabitants\n",
      "0             1204953\n",
      "1               93931\n",
      "2              128118\n",
      "3              125832\n",
      "4              124605\n",
      "\n",
      "       no. of inhabitants\n",
      "count        2.820000e+02\n",
      "mean         2.706327e+05\n",
      "std          3.596212e+05\n",
      "min          4.282100e+04\n",
      "25%          8.888400e+04\n",
      "50%          1.255340e+05\n",
      "75%          2.261220e+05\n",
      "max          1.204953e+06\n",
      "   no. of inhabitants\n",
      "0              103347\n",
      "1             1204953\n",
      "2              110643\n",
      "3              387570\n",
      "4               42821\n",
      "\n",
      "       no. of inhabitants\n",
      "count        4.600000e+01\n",
      "mean         2.788209e+05\n",
      "std          3.725584e+05\n",
      "min          4.282100e+04\n",
      "25%          9.501300e+04\n",
      "50%          1.170475e+05\n",
      "75%          2.281665e+05\n",
      "max          1.204953e+06\n"
     ]
    },
    {
     "data": {
      "image/png": "[encoded data removed]",
      "text/plain": [
       "<Figure size 432x288 with 1 Axes>"
      ]
     },
     "metadata": {
      "needs_background": "light"
     },
     "output_type": "display_data"
    }
   ],
   "source": [
    "district_client_p = pd.read_sql('''SELECT \"no. of inhabitants\" FROM account\n",
    "    JOIN loan_dev ON loan_dev.account_id = account.account_id\n",
    "    LEFT JOIN disp ON disp.account_id = account.account_id\n",
    "    LEFT JOIN client ON client.client_id = disp.client_id\n",
    "    LEFT JOIN district ON district.code = client.district_id\n",
    "    WHERE disp.type = \"OWNER\" and status = 1\n",
    "''', conn)\n",
    "\n",
    "district_client_up = pd.read_sql('''SELECT \"no. of inhabitants\" FROM account\n",
    "    JOIN loan_dev ON loan_dev.account_id = account.account_id\n",
    "    LEFT JOIN disp ON disp.account_id = account.account_id\n",
    "    LEFT JOIN client ON client.client_id = disp.client_id\n",
    "    LEFT JOIN district ON district.code = client.district_id\n",
    "    WHERE disp.type = \"OWNER\" and status = -1\n",
    "''', conn)\n",
    "\n",
    "\n",
    "print(district_client_p.head())\n",
    "print()\n",
    "print(district_client_p.describe())\n",
    "\n",
    "print(district_client_up.head())\n",
    "print()\n",
    "print(district_client_up.describe())\n",
    "\n",
    "fig, ax = plt.subplots()\n",
    "ax.hist(district_client_p[\"no. of inhabitants\"], bins=50, color = \"blue\")\n",
    "ax.hist(district_client_up[\"no. of inhabitants\"], bins=50, color = \"red\", alpha = 0.45)\n",
    "plt.legend([\"paid\", \n",
    "            \"unpaid \"])\n",
    "plt.show()"
   ]
  },
  {
   "cell_type": "markdown",
   "id": "dfcbf707",
   "metadata": {},
   "source": [
    "## Status vs urban ratio"
   ]
  },
  {
   "cell_type": "code",
   "execution_count": 5,
   "id": "210e8f82",
   "metadata": {},
   "outputs": [
    {
     "name": "stdout",
     "output_type": "stream",
     "text": [
      "   ratio of urban inhabitants \n",
      "0                        100.0\n",
      "1                         56.9\n",
      "2                         85.3\n",
      "3                         48.3\n",
      "4                         46.0\n",
      "\n",
      "       ratio of urban inhabitants \n",
      "count                   282.000000\n",
      "mean                     67.825887\n",
      "std                      20.342879\n",
      "min                      33.900000\n",
      "25%                      52.700000\n",
      "50%                      61.900000\n",
      "75%                      85.500000\n",
      "max                     100.000000\n",
      "   ratio of urban inhabitants \n",
      "0                         67.0\n",
      "1                        100.0\n",
      "2                         51.9\n",
      "3                        100.0\n",
      "4                         48.4\n",
      "\n",
      "       ratio of urban inhabitants \n",
      "count                    46.000000\n",
      "mean                     68.523913\n",
      "std                      19.985597\n",
      "min                      36.500000\n",
      "25%                      54.025000\n",
      "50%                      62.000000\n",
      "75%                      87.875000\n",
      "max                     100.000000\n"
     ]
    },
    {
     "data": {
      "image/png": "[encoded data removed]",
      "text/plain": [
       "<Figure size 432x288 with 1 Axes>"
      ]
     },
     "metadata": {
      "needs_background": "dark"
     },
     "output_type": "display_data"
    }
   ],
   "source": [
    "district_client_p = pd.read_sql('''SELECT district.\"ratio of urban inhabitants \" FROM account\n",
    "    JOIN loan_dev ON loan_dev.account_id = account.account_id\n",
    "    LEFT JOIN disp ON disp.account_id = account.account_id\n",
    "    LEFT JOIN client ON client.client_id = disp.client_id\n",
    "    LEFT JOIN district ON district.code = client.district_id\n",
    "    WHERE disp.type = \"OWNER\" and status = 1\n",
    "''', conn)\n",
    "\n",
    "district_client_up = pd.read_sql('''SELECT district.\"ratio of urban inhabitants \" FROM account\n",
    "    JOIN loan_dev ON loan_dev.account_id = account.account_id\n",
    "    LEFT JOIN disp ON disp.account_id = account.account_id\n",
    "    LEFT JOIN client ON client.client_id = disp.client_id\n",
    "    LEFT JOIN district ON district.code = client.district_id\n",
    "    WHERE disp.type = \"OWNER\" and status = -1\n",
    "''', conn)\n",
    "\n",
    "\n",
    "print(district_client_p.head())\n",
    "print()\n",
    "print(district_client_p.describe())\n",
    "\n",
    "print(district_client_up.head())\n",
    "print()\n",
    "print(district_client_up.describe())\n",
    "\n",
    "fig, ax = plt.subplots()\n",
    "ax.hist(district_client_p[\"ratio of urban inhabitants \"], bins=50, color = \"blue\")\n",
    "ax.hist(district_client_up[\"ratio of urban inhabitants \"], bins=50, color = \"red\", alpha = 0.45)\n",
    "plt.legend([\"paid\", \n",
    "            \"unpaid \"])\n",
    "plt.show()"
   ]
  },
  {
   "cell_type": "markdown",
   "id": "8c514f97",
   "metadata": {},
   "source": [
    "## Status vs umployment"
   ]
  },
  {
   "cell_type": "code",
   "execution_count": 6,
   "id": "55724145",
   "metadata": {},
   "outputs": [
    {
     "name": "stdout",
     "output_type": "stream",
     "text": [
      "   unemploymant rate '95   unemploymant rate '96 \n",
      "0                    0.29                    0.43\n",
      "1                    1.12                    1.54\n",
      "2                    6.49                    7.07\n",
      "3                    3.51                    4.12\n",
      "4                    4.69                    4.98\n",
      "\n",
      "       unemploymant rate '95   unemploymant rate '96 \n",
      "count              282.000000              282.000000\n",
      "mean                 2.890177                3.498617\n",
      "std                  1.944651                2.218888\n",
      "min                  0.290000                0.430000\n",
      "25%                  1.510000                1.860000\n",
      "50%                  2.645000                3.470000\n",
      "75%                  3.850000                4.772500\n",
      "max                  7.340000                9.400000\n",
      "   unemploymant rate '95   unemploymant rate '96 \n",
      "0                    1.51                    2.07\n",
      "1                    0.29                    0.43\n",
      "2                    3.45                    4.48\n",
      "3                    1.60                    1.96\n",
      "4                    7.01                    7.01\n",
      "\n",
      "       unemploymant rate '95   unemploymant rate '96 \n",
      "count               46.000000               46.000000\n",
      "mean                 3.095435                3.669783\n",
      "std                  1.914010                2.098359\n",
      "min                  0.290000                0.430000\n",
      "25%                  1.532500                2.025000\n",
      "50%                  3.240000                3.655000\n",
      "75%                  3.970000                4.790000\n",
      "max                  7.340000                9.400000\n"
     ]
    },
    {
     "data": {
      "image/png": "[encoded data removed]",
      "text/plain": [
       "<Figure size 432x288 with 1 Axes>"
      ]
     },
     "metadata": {
      "needs_background": "dark"
     },
     "output_type": "display_data"
    },
    {
     "data": {
      "image/png": "[encoded data removed]",
      "text/plain": [
       "<Figure size 432x288 with 1 Axes>"
      ]
     },
     "metadata": {
      "needs_background": "dark"
     },
     "output_type": "display_data"
    }
   ],
   "source": [
    "district_client_p = pd.read_sql('''SELECT  \"unemploymant rate '95 \", \"unemploymant rate '96 \" FROM account\n",
    "    JOIN loan_dev ON loan_dev.account_id = account.account_id\n",
    "    LEFT JOIN disp ON disp.account_id = account.account_id\n",
    "    LEFT JOIN client ON client.client_id = disp.client_id\n",
    "    LEFT JOIN district ON district.code = client.district_id\n",
    "    WHERE disp.type = \"OWNER\" and status = 1\n",
    "''', conn)\n",
    "\n",
    "district_client_up = pd.read_sql('''SELECT  \"unemploymant rate '95 \", \"unemploymant rate '96 \" FROM account\n",
    "    JOIN loan_dev ON loan_dev.account_id = account.account_id\n",
    "    LEFT JOIN disp ON disp.account_id = account.account_id\n",
    "    LEFT JOIN client ON client.client_id = disp.client_id\n",
    "    LEFT JOIN district ON district.code = client.district_id\n",
    "    WHERE disp.type = \"OWNER\" and status = -1\n",
    "''', conn)\n",
    "\n",
    "district_client_p.loc[district_client_p[\"unemploymant rate '95 \"] == '?',\n",
    "                \"unemploymant rate '95 \"] = district_client_p[\"unemploymant rate '96 \"]\n",
    "\n",
    "district_client_p[\"unemploymant rate '95 \"] = district_client_p[\"unemploymant rate '95 \"].astype('float')\n",
    "\n",
    "district_client_up.loc[district_client_up[\"unemploymant rate '95 \"] == '?',\n",
    "                \"unemploymant rate '95 \"] = district_client_up[\"unemploymant rate '96 \"]\n",
    "\n",
    "district_client_up[\"unemploymant rate '95 \"] = district_client_up[\"unemploymant rate '95 \"].astype('float')\n",
    "\n",
    "print(district_client_p.head())\n",
    "print()\n",
    "print(district_client_p.describe())\n",
    "\n",
    "print(district_client_up.head())\n",
    "print()\n",
    "print(district_client_up.describe())\n",
    "\n",
    "fig, ax = plt.subplots()\n",
    "ax.hist(district_client_p[\"unemploymant rate '95 \"], bins=50, color = \"blue\")\n",
    "ax.hist(district_client_up[\"unemploymant rate '95 \"], bins=50, color = \"red\", alpha = 0.45)\n",
    "plt.legend([\"paid\", \n",
    "            \"unpaid \"])\n",
    "plt.show()\n",
    "fig1, ax1 = plt.subplots()\n",
    "ax1.hist(district_client_p[\"unemploymant rate '96 \"], bins=50, color = \"blue\")\n",
    "ax1.hist(district_client_up[\"unemploymant rate '96 \"], bins=50, color = \"red\", alpha = 0.45)\n",
    "plt.legend([\"paid\", \n",
    "            \"unpaid \"])\n",
    "plt.show()\n"
   ]
  },
  {
   "cell_type": "markdown",
   "id": "daeb6a7d",
   "metadata": {},
   "source": [
    "## Status vs crime"
   ]
  },
  {
   "cell_type": "code",
   "execution_count": 7,
   "id": "8dd2d39b",
   "metadata": {},
   "outputs": [
    {
     "name": "stdout",
     "output_type": "stream",
     "text": [
      "   no. of commited crimes '95   no. of commited crimes '96 \n",
      "0                      85677.0                        99107\n",
      "1                       1874.0                         1913\n",
      "2                       6949.0                         6872\n",
      "3                       2247.0                         2103\n",
      "4                       2854.0                         3158\n",
      "\n",
      "       no. of commited crimes '95   no. of commited crimes '96 \n",
      "count                   282.000000                   282.000000\n",
      "mean                  14621.308511                 16312.946809\n",
      "std                   27087.962322                 31461.404507\n",
      "min                     818.000000                   888.000000\n",
      "25%                    2159.000000                  2265.250000\n",
      "50%                    3659.000000                  3839.000000\n",
      "75%                    6862.750000                  6727.750000\n",
      "max                   85677.000000                 99107.000000\n",
      "   no. of commited crimes '95   no. of commited crimes '96 \n",
      "0                       2299.0                         2354\n",
      "1                      85677.0                        99107\n",
      "2                       1879.0                         2252\n",
      "3                      18721.0                        18696\n",
      "4                       1358.0                         1358\n",
      "\n",
      "       no. of commited crimes '95   no. of commited crimes '96 \n",
      "count                    46.000000                    46.000000\n",
      "mean                  15403.630435                 17195.152174\n",
      "std                   27938.809927                 32422.338884\n",
      "min                     818.000000                   888.000000\n",
      "25%                    1879.000000                  2252.000000\n",
      "50%                    3114.500000                  3118.500000\n",
      "75%                    9672.000000                  9208.000000\n",
      "max                   85677.000000                 99107.000000\n"
     ]
    },
    {
     "data": {
      "image/png": "[encoded data removed]",
      "text/plain": [
       "<Figure size 432x288 with 1 Axes>"
      ]
     },
     "metadata": {
      "needs_background": "dark"
     },
     "output_type": "display_data"
    },
    {
     "data": {
      "image/png": "[encoded data removed]",
      "text/plain": [
       "<Figure size 432x288 with 1 Axes>"
      ]
     },
     "metadata": {
      "needs_background": "dark"
     },
     "output_type": "display_data"
    }
   ],
   "source": [
    "district_client_p = pd.read_sql('''SELECT  \"no. of commited crimes '95 \", \"no. of commited crimes '96 \" FROM account\n",
    "    JOIN loan_dev ON loan_dev.account_id = account.account_id\n",
    "    LEFT JOIN disp ON disp.account_id = account.account_id\n",
    "    LEFT JOIN client ON client.client_id = disp.client_id\n",
    "    LEFT JOIN district ON district.code = client.district_id\n",
    "    WHERE disp.type = \"OWNER\" and status = 1\n",
    "''', conn)\n",
    "\n",
    "district_client_up = pd.read_sql('''SELECT  \"no. of commited crimes '95 \", \"no. of commited crimes '96 \" FROM account\n",
    "    JOIN loan_dev ON loan_dev.account_id = account.account_id\n",
    "    LEFT JOIN disp ON disp.account_id = account.account_id\n",
    "    LEFT JOIN client ON client.client_id = disp.client_id\n",
    "    LEFT JOIN district ON district.code = client.district_id\n",
    "    WHERE disp.type = \"OWNER\" and status = -1\n",
    "''', conn)\n",
    "\n",
    "district_client_p.loc[district_client_p[\"no. of commited crimes '95 \"] == '?',\n",
    "                \"no. of commited crimes '95 \"] = district_client_p[\"no. of commited crimes '96 \"]\n",
    "\n",
    "district_client_p[\"no. of commited crimes '95 \"] = district_client_p[\"no. of commited crimes '95 \"].astype('float')\n",
    "\n",
    "district_client_up.loc[district_client_up[\"no. of commited crimes '95 \"] == '?',\n",
    "                \"no. of commited crimes '95 \"] = district_client_up[\"no. of commited crimes '96 \"]\n",
    "\n",
    "district_client_up[\"no. of commited crimes '95 \"] = district_client_up[\"no. of commited crimes '95 \"].astype('float')\n",
    "\n",
    "print(district_client_p.head())\n",
    "print()\n",
    "print(district_client_p.describe())\n",
    "\n",
    "print(district_client_up.head())\n",
    "print()\n",
    "print(district_client_up.describe())\n",
    "\n",
    "fig, ax = plt.subplots()\n",
    "ax.hist(district_client_p[\"no. of commited crimes '95 \"], bins=50, color = \"blue\")\n",
    "ax.hist(district_client_up[\"no. of commited crimes '95 \"], bins=50, color = \"red\", alpha = 0.45)\n",
    "plt.legend([\"paid\", \n",
    "            \"unpayed \"])\n",
    "plt.show()\n",
    "fig1, ax1 = plt.subplots()\n",
    "ax1.hist(district_client_p[\"no. of commited crimes '96 \"], bins=50, color = \"blue\")\n",
    "ax1.hist(district_client_up[\"no. of commited crimes '96 \"], bins=50, color = \"red\", alpha = 0.45)\n",
    "plt.legend([\"paid\", \n",
    "            \"unpayed \"])\n",
    "plt.show()\n"
   ]
  },
  {
   "cell_type": "markdown",
   "id": "c75286e9",
   "metadata": {},
   "source": [
    "## Status vs no entrepeneurs"
   ]
  },
  {
   "cell_type": "code",
   "execution_count": 8,
   "id": "34f06954",
   "metadata": {},
   "outputs": [
    {
     "name": "stdout",
     "output_type": "stream",
     "text": [
      "   no. of enterpreneurs per 1000 inhabitants \n",
      "0                                         167\n",
      "1                                         107\n",
      "2                                          97\n",
      "3                                         102\n",
      "4                                         126\n",
      "\n",
      "       no. of enterpreneurs per 1000 inhabitants \n",
      "count                                  282.000000\n",
      "mean                                   121.783688\n",
      "std                                     23.267270\n",
      "min                                     81.000000\n",
      "25%                                    107.000000\n",
      "50%                                    115.000000\n",
      "75%                                    135.000000\n",
      "max                                    167.000000\n",
      "   no. of enterpreneurs per 1000 inhabitants \n",
      "0                                         123\n",
      "1                                         167\n",
      "2                                         115\n",
      "3                                         140\n",
      "4                                         124\n",
      "\n",
      "       no. of enterpreneurs per 1000 inhabitants \n",
      "count                                   46.000000\n",
      "mean                                   119.347826\n",
      "std                                     23.502451\n",
      "min                                     81.000000\n",
      "25%                                    106.000000\n",
      "50%                                    114.000000\n",
      "75%                                    125.500000\n",
      "max                                    167.000000\n"
     ]
    },
    {
     "data": {
      "image/png": "[encoded data removed]",
      "text/plain": [
       "<Figure size 432x288 with 1 Axes>"
      ]
     },
     "metadata": {
      "needs_background": "dark"
     },
     "output_type": "display_data"
    }
   ],
   "source": [
    "district_client_p = pd.read_sql('''SELECT district.\"no. of enterpreneurs per 1000 inhabitants \" FROM account\n",
    "    JOIN loan_dev ON loan_dev.account_id = account.account_id\n",
    "    LEFT JOIN disp ON disp.account_id = account.account_id\n",
    "    LEFT JOIN client ON client.client_id = disp.client_id\n",
    "    LEFT JOIN district ON district.code = client.district_id\n",
    "    WHERE disp.type = \"OWNER\" and status = 1\n",
    "''', conn)\n",
    "\n",
    "district_client_up = pd.read_sql('''SELECT district.\"no. of enterpreneurs per 1000 inhabitants \" FROM account\n",
    "    JOIN loan_dev ON loan_dev.account_id = account.account_id\n",
    "    LEFT JOIN disp ON disp.account_id = account.account_id\n",
    "    LEFT JOIN client ON client.client_id = disp.client_id\n",
    "    LEFT JOIN district ON district.code = client.district_id\n",
    "    WHERE disp.type = \"OWNER\" and status = -1\n",
    "''', conn)\n",
    "\n",
    "\n",
    "print(district_client_p.head())\n",
    "print()\n",
    "print(district_client_p.describe())\n",
    "\n",
    "print(district_client_up.head())\n",
    "print()\n",
    "print(district_client_up.describe())\n",
    "\n",
    "fig, ax = plt.subplots()\n",
    "ax.hist(district_client_p[\"no. of enterpreneurs per 1000 inhabitants \"], bins=50, color = \"blue\")\n",
    "ax.hist(district_client_up[\"no. of enterpreneurs per 1000 inhabitants \"], bins=50, color = \"red\", alpha = 0.45)\n",
    "plt.legend([\"paid\", \n",
    "            \"unpaid \"])\n",
    "plt.show()"
   ]
  },
  {
   "cell_type": "code",
   "execution_count": 29,
   "id": "8e72e4cb",
   "metadata": {},
   "outputs": [
    {
     "data": {
      "text/plain": [
       "<AxesSubplot:>"
      ]
     },
     "execution_count": 29,
     "metadata": {},
     "output_type": "execute_result"
    },
    {
     "data": {
      "image/png": "[encoded data removed]",
      "text/plain": [
       "<Figure size 432x288 with 2 Axes>"
      ]
     },
     "metadata": {
      "needs_background": "dark"
     },
     "output_type": "display_data"
    }
   ],
   "source": [
    "import seaborn as sns\n",
    "features = pd.read_sql('''SELECT * FROM account\n",
    "    JOIN loan_dev ON loan_dev.account_id = account.account_id\n",
    "    LEFT JOIN disp ON disp.account_id = account.account_id\n",
    "    LEFT JOIN client ON client.client_id = disp.client_id\n",
    "    LEFT JOIN district ON district.code = client.district_id\n",
    "    LEFT JOIN card_dev ON card_dev.disp_id = disp.disp_id\n",
    "''', conn)\n",
    "\n",
    "features = features.drop(['account_id', 'district_id', 'loan_id', 'district_id', 'disp_id','card_id','client_id','code'], axis=1)\n",
    "\n",
    "corr = features.corr(method ='spearman')\n",
    "\n",
    "sns.heatmap(corr)\n"
   ]
  },
  {
   "cell_type": "code",
   "execution_count": 30,
   "id": "bc917922",
   "metadata": {},
   "outputs": [
    {
     "data": {
      "text/plain": [
       "<AxesSubplot:>"
      ]
     },
     "execution_count": 30,
     "metadata": {},
     "output_type": "execute_result"
    },
    {
     "data": {
      "image/png": "[encoded data removed]",
      "text/plain": [
       "<Figure size 432x288 with 2 Axes>"
      ]
     },
     "metadata": {
      "needs_background": "dark"
     },
     "output_type": "display_data"
    }
   ],
   "source": [
    "corr = features.corr(method ='pearson')\n",
    "\n",
    "sns.heatmap(corr)"
   ]
  },
  {
   "cell_type": "code",
   "execution_count": 19,
   "id": "fca99337",
   "metadata": {},
   "outputs": [
    {
     "name": "stdout",
     "output_type": "stream",
     "text": [
      "╒══════════════════════╤══════════╤════════════╤═════════════════════╤════════════╤═════════════╤═════════════════════╕\n",
      "│                      │      AUC │   Accuracy │   Balanced Accuracy │   F1 Score │   Precision │   Average Fit Times │\n",
      "╞══════════════════════╪══════════╪════════════╪═════════════════════╪════════════╪═════════════╪═════════════════════╡\n",
      "│ Random Forest        │ 0.688491 │   0.878089 │            0.565556 │   0.933796 │    0.875855 │          0.316283   │\n",
      "├──────────────────────┼──────────┼────────────┼─────────────────────┼────────────┼─────────────┼─────────────────────┤\n",
      "│ GaussianNB           │ 0.657498 │   0.844429 │            0.553204 │   0.913768 │    0.874009 │          0.00365334 │\n",
      "├──────────────────────┼──────────┼────────────┼─────────────────────┼────────────┼─────────────┼─────────────────────┤\n",
      "│ KNeighborsClassifier │ 0.539797 │   0.847506 │            0.492888 │   0.917364 │    0.858007 │          0.00270581 │\n",
      "├──────────────────────┼──────────┼────────────┼─────────────────────┼────────────┼─────────────┼─────────────────────┤\n",
      "│ LogisticRegression   │ 0.746006 │   0.871888 │            0.608705 │   0.929028 │    0.88742  │          0.422747   │\n",
      "├──────────────────────┼──────────┼────────────┼─────────────────────┼────────────┼─────────────┼─────────────────────┤\n",
      "│ SVC                  │ 0.693454 │   0.874918 │            0.626951 │   0.930405 │    0.892733 │        116.717      │\n",
      "├──────────────────────┼──────────┼────────────┼─────────────────────┼────────────┼─────────────┼─────────────────────┤\n",
      "│ StackingClassifier   │ 0.738989 │   0.875012 │            0.573158 │   0.931817 │    0.877949 │       2761.47       │\n",
      "╘══════════════════════╧══════════╧════════════╧═════════════════════╧════════════╧═════════════╧═════════════════════╛\n"
     ]
    }
   ],
   "source": [
    "from tabulate import tabulate\n",
    "\n",
    "labels = [\"AUC\",\"Accuracy\",\"Balanced Accuracy\",\"F1 Score\",\"Precision\",\"Average Fit Times\"]\n",
    "\n",
    "random_forest = [0.6884910192147035,0.8780885780885781,0.5655555555555555,0.9337964195297414,0.8758547008547009,0.316283130645752]\n",
    "gaussian = [0.6574979114452798, 0.8444289044289043, 0.5532038429406849, 0.913767926988266, 0.8740092165898619, 0.0036533355712890627]\n",
    "k_neighbours = [0.5397970620996937, 0.8475058275058274, 0.4928884711779449, 0.9173639523039363, 0.858007368975111, 0.002705812454223633]\n",
    "logistic_regression = [0.7460059871901977, 0.8718881118881118, 0.6087050960735171, 0.9290277236523139, 0.8874196260288276, 0.4227468967437744]\n",
    "svc = [0.693454469507101, 0.8749184149184149, 0.6269507101086049, 0.930404878161608, 0.8927329119555456, 116.71701259613037]\n",
    "stack_classifier = [0.7389891395154553, 0.875011655011655, 0.5731578947368421, 0.9318165613352779, 0.877948717948718, 2761.4730689525604]\n",
    "\n",
    "table = [labels,\n",
    "        [\"Random Forest\"]+random_forest,\n",
    "        [\"GaussianNB\"] + gaussian,\n",
    "        [\"KNeighborsClassifier\"] + k_neighbours,\n",
    "        [\"LogisticRegression\"]+logistic_regression,\n",
    "        [\"SVC\"]+svc,\n",
    "        [\"StackingClassifier\"] +stack_classifier ]\n",
    "print(tabulate(table, headers='firstrow', tablefmt='fancy_grid'))\n"
   ]
  },
  {
   "cell_type": "code",
   "execution_count": null,
   "id": "4484d6c0",
   "metadata": {},
   "outputs": [],
   "source": []
  }
 ],
 "metadata": {
  "kernelspec": {
   "display_name": "Python 3 (ipykernel)",
   "language": "python",
   "name": "python3"
  },
  "language_info": {
   "codemirror_mode": {
    "name": "ipython",
    "version": 3
   },
   "file_extension": ".py",
   "mimetype": "text/x-python",
   "name": "python",
   "nbconvert_exporter": "python",
   "pygments_lexer": "ipython3",
   "version": "3.9.12"
  }
 },
 "nbformat": 4,
 "nbformat_minor": 5
}
